{
 "cells": [
  {
   "cell_type": "code",
   "execution_count": 10,
   "id": "9b6636f4-5f70-49e6-828d-f71e9240f238",
   "metadata": {},
   "outputs": [],
   "source": [
    "%config IPCompleter.greedy=True"
   ]
  },
  {
   "cell_type": "code",
   "execution_count": 17,
   "id": "df68d229-bf18-4fed-9669-dd71244a99ea",
   "metadata": {
    "editable": true,
    "slideshow": {
     "slide_type": ""
    },
    "tags": []
   },
   "outputs": [],
   "source": [
    "from sklearn.dummy import DummyClassifier\n",
    "import pandas as pd\n",
    "import matplotlib.pyplot as plt\n",
    "import seaborn as sns\n",
    "\n",
    "import torch\n",
    "from torch import nn"
   ]
  },
  {
   "cell_type": "code",
   "execution_count": 5,
   "id": "a4d7b536-a28b-4636-8d68-70889ed846e3",
   "metadata": {},
   "outputs": [],
   "source": [
    "train = pd.read_csv(\"train.tsv\", sep='\\t')\n",
    "test = pd.read_csv(\"test.tsv\", sep='\\t')"
   ]
  },
  {
   "cell_type": "code",
   "execution_count": 6,
   "id": "76b14204-4441-44ee-9445-1b4ff2f651ed",
   "metadata": {},
   "outputs": [],
   "source": [
    "trainX = train.drop(columns=[\"y\", \"id\"])\n",
    "trainY = train[\"y\"]\n",
    "testX = test.drop(columns=[\"id\"])\n",
    "submission = test[[\"id\"]].copy()"
   ]
  },
  {
   "cell_type": "code",
   "execution_count": 16,
   "id": "13d0b537",
   "metadata": {},
   "outputs": [],
   "source": [
    "class binClassificator(nn.Module):\n",
    "    def __init__(self, *args, **kwargs):\n",
    "        super(binClassificator,self).__init__(*args, **kwargs)\n",
    "\n",
    "    "
   ]
  },
  {
   "cell_type": "code",
   "execution_count": 11,
   "id": "4499150b",
   "metadata": {},
   "outputs": [
    {
     "data": {
      "text/html": [
       "<div>\n",
       "<style scoped>\n",
       "    .dataframe tbody tr th:only-of-type {\n",
       "        vertical-align: middle;\n",
       "    }\n",
       "\n",
       "    .dataframe tbody tr th {\n",
       "        vertical-align: top;\n",
       "    }\n",
       "\n",
       "    .dataframe thead th {\n",
       "        text-align: right;\n",
       "    }\n",
       "</style>\n",
       "<table border=\"1\" class=\"dataframe\">\n",
       "  <thead>\n",
       "    <tr style=\"text-align: right;\">\n",
       "      <th></th>\n",
       "      <th>x1</th>\n",
       "      <th>x2</th>\n",
       "      <th>x3</th>\n",
       "      <th>x4</th>\n",
       "      <th>x5</th>\n",
       "      <th>x6</th>\n",
       "      <th>x7</th>\n",
       "      <th>x8</th>\n",
       "      <th>x9</th>\n",
       "      <th>x10</th>\n",
       "      <th>...</th>\n",
       "      <th>x991</th>\n",
       "      <th>x992</th>\n",
       "      <th>x993</th>\n",
       "      <th>x994</th>\n",
       "      <th>x995</th>\n",
       "      <th>x996</th>\n",
       "      <th>x997</th>\n",
       "      <th>x998</th>\n",
       "      <th>x999</th>\n",
       "      <th>x1000</th>\n",
       "    </tr>\n",
       "  </thead>\n",
       "  <tbody>\n",
       "    <tr>\n",
       "      <th>0</th>\n",
       "      <td>70</td>\n",
       "      <td>90</td>\n",
       "      <td>-100</td>\n",
       "      <td>?</td>\n",
       "      <td>-10</td>\n",
       "      <td>?</td>\n",
       "      <td>260</td>\n",
       "      <td>-370</td>\n",
       "      <td>-280</td>\n",
       "      <td>?</td>\n",
       "      <td>...</td>\n",
       "      <td>?</td>\n",
       "      <td>?</td>\n",
       "      <td>10</td>\n",
       "      <td>140</td>\n",
       "      <td>50</td>\n",
       "      <td>?</td>\n",
       "      <td>-60</td>\n",
       "      <td>?</td>\n",
       "      <td>-3200</td>\n",
       "      <td>-950</td>\n",
       "    </tr>\n",
       "    <tr>\n",
       "      <th>1</th>\n",
       "      <td>60</td>\n",
       "      <td>40</td>\n",
       "      <td>-40</td>\n",
       "      <td>-20</td>\n",
       "      <td>-10</td>\n",
       "      <td>110</td>\n",
       "      <td>330</td>\n",
       "      <td>?</td>\n",
       "      <td>?</td>\n",
       "      <td>0</td>\n",
       "      <td>...</td>\n",
       "      <td>?</td>\n",
       "      <td>20</td>\n",
       "      <td>40</td>\n",
       "      <td>?</td>\n",
       "      <td>?</td>\n",
       "      <td>-1220</td>\n",
       "      <td>-50</td>\n",
       "      <td>?</td>\n",
       "      <td>-3560</td>\n",
       "      <td>-920</td>\n",
       "    </tr>\n",
       "    <tr>\n",
       "      <th>2</th>\n",
       "      <td>80</td>\n",
       "      <td>60</td>\n",
       "      <td>?</td>\n",
       "      <td>-60</td>\n",
       "      <td>0</td>\n",
       "      <td>?</td>\n",
       "      <td>360</td>\n",
       "      <td>-540</td>\n",
       "      <td>?</td>\n",
       "      <td>?</td>\n",
       "      <td>...</td>\n",
       "      <td>?</td>\n",
       "      <td>20</td>\n",
       "      <td>?</td>\n",
       "      <td>100</td>\n",
       "      <td>?</td>\n",
       "      <td>-1170</td>\n",
       "      <td>-50</td>\n",
       "      <td>-10</td>\n",
       "      <td>?</td>\n",
       "      <td>?</td>\n",
       "    </tr>\n",
       "    <tr>\n",
       "      <th>3</th>\n",
       "      <td>80</td>\n",
       "      <td>90</td>\n",
       "      <td>40</td>\n",
       "      <td>10</td>\n",
       "      <td>?</td>\n",
       "      <td>190</td>\n",
       "      <td>490</td>\n",
       "      <td>-380</td>\n",
       "      <td>?</td>\n",
       "      <td>-10</td>\n",
       "      <td>...</td>\n",
       "      <td>?</td>\n",
       "      <td>20</td>\n",
       "      <td>20</td>\n",
       "      <td>-40</td>\n",
       "      <td>40</td>\n",
       "      <td>?</td>\n",
       "      <td>?</td>\n",
       "      <td>-40</td>\n",
       "      <td>?</td>\n",
       "      <td>?</td>\n",
       "    </tr>\n",
       "    <tr>\n",
       "      <th>4</th>\n",
       "      <td>80</td>\n",
       "      <td>70</td>\n",
       "      <td>40</td>\n",
       "      <td>?</td>\n",
       "      <td>?</td>\n",
       "      <td>70</td>\n",
       "      <td>470</td>\n",
       "      <td>-340</td>\n",
       "      <td>630</td>\n",
       "      <td>?</td>\n",
       "      <td>...</td>\n",
       "      <td>50</td>\n",
       "      <td>10</td>\n",
       "      <td>30</td>\n",
       "      <td>20</td>\n",
       "      <td>40</td>\n",
       "      <td>-1700</td>\n",
       "      <td>-60</td>\n",
       "      <td>-20</td>\n",
       "      <td>?</td>\n",
       "      <td>-420</td>\n",
       "    </tr>\n",
       "  </tbody>\n",
       "</table>\n",
       "<p>5 rows × 1000 columns</p>\n",
       "</div>"
      ],
      "text/plain": [
       "   x1  x2    x3   x4   x5   x6   x7    x8    x9  x10  ... x991 x992 x993 x994  \\\n",
       "0  70  90  -100    ?  -10    ?  260  -370  -280    ?  ...    ?    ?   10  140   \n",
       "1  60  40   -40  -20  -10  110  330     ?     ?    0  ...    ?   20   40    ?   \n",
       "2  80  60     ?  -60    0    ?  360  -540     ?    ?  ...    ?   20    ?  100   \n",
       "3  80  90    40   10    ?  190  490  -380     ?  -10  ...    ?   20   20  -40   \n",
       "4  80  70    40    ?    ?   70  470  -340   630    ?  ...   50   10   30   20   \n",
       "\n",
       "  x995   x996 x997 x998   x999 x1000  \n",
       "0   50      ?  -60    ?  -3200  -950  \n",
       "1    ?  -1220  -50    ?  -3560  -920  \n",
       "2    ?  -1170  -50  -10      ?     ?  \n",
       "3   40      ?    ?  -40      ?     ?  \n",
       "4   40  -1700  -60  -20      ?  -420  \n",
       "\n",
       "[5 rows x 1000 columns]"
      ]
     },
     "execution_count": 11,
     "metadata": {},
     "output_type": "execute_result"
    }
   ],
   "source": [
    "testX[:5]"
   ]
  },
  {
   "cell_type": "code",
   "execution_count": 14,
   "id": "9090fe58",
   "metadata": {},
   "outputs": [
    {
     "data": {
      "text/plain": [
       "<function sklearn.dummy.DummyClassifier.fit(self, X, y, sample_weight=None)>"
      ]
     },
     "execution_count": 14,
     "metadata": {},
     "output_type": "execute_result"
    }
   ],
   "source": []
  },
  {
   "cell_type": "code",
   "execution_count": null,
   "id": "8c2cc7a5-b190-4e3e-83c3-22102a6fd761",
   "metadata": {},
   "outputs": [],
   "source": [
    "clsf = (random_state=1)\n",
    "clsf.fit(trainX, trainY)\n",
    "prediction = clsf.predict(testX)"
   ]
  },
  {
   "cell_type": "code",
   "execution_count": null,
   "id": "a5ab2ec5-9e39-4ce3-9bec-ffd183a314c8",
   "metadata": {},
   "outputs": [],
   "source": [
    "submission[\"y\"] = prediction"
   ]
  },
  {
   "cell_type": "code",
   "execution_count": null,
   "id": "e310e223-0b02-4c46-a995-a540444bb4ba",
   "metadata": {},
   "outputs": [],
   "source": [
    "submission.to_csv(\"submission.tsv\", sep='\\t')"
   ]
  },
  {
   "cell_type": "code",
   "execution_count": null,
   "id": "30440698",
   "metadata": {},
   "outputs": [],
   "source": []
  }
 ],
 "metadata": {
  "kernelspec": {
   "display_name": "Python 3 (ipykernel)",
   "language": "python",
   "name": "python3"
  },
  "language_info": {
   "codemirror_mode": {
    "name": "ipython",
    "version": 3
   },
   "file_extension": ".py",
   "mimetype": "text/x-python",
   "name": "python",
   "nbconvert_exporter": "python",
   "pygments_lexer": "ipython3",
   "version": "3.12.7"
  }
 },
 "nbformat": 4,
 "nbformat_minor": 5
}
