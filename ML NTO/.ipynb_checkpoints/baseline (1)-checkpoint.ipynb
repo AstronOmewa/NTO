{
 "cells": [
  {
   "cell_type": "code",
   "execution_count": null,
   "id": "9b6636f4-5f70-49e6-828d-f71e9240f238",
   "metadata": {},
   "outputs": [],
   "source": [
    "%config IPCompleter.greedy=True"
   ]
  },
  {
   "cell_type": "code",
   "execution_count": 1,
   "id": "df68d229-bf18-4fed-9669-dd71244a99ea",
   "metadata": {
    "editable": true,
    "slideshow": {
     "slide_type": ""
    },
    "tags": []
   },
   "outputs": [],
   "source": [
    "from sklearn.dummy import DummyClassifier\n",
    "import pandas as pd\n",
    "\n",
    "import torch\n",
    "from torch import nn"
   ]
  },
  {
   "cell_type": "code",
   "execution_count": 2,
   "id": "a4d7b536-a28b-4636-8d68-70889ed846e3",
   "metadata": {},
   "outputs": [],
   "source": [
    "train = pd.read_csv(\"train.tsv\", sep='\\t')\n",
    "test = pd.read_csv(\"test.tsv\", sep='\\t')"
   ]
  },
  {
   "cell_type": "code",
   "execution_count": 3,
   "id": "76b14204-4441-44ee-9445-1b4ff2f651ed",
   "metadata": {},
   "outputs": [],
   "source": [
    "trainX = train.drop(columns=[\"y\", \"id\"])\n",
    "trainY = train[\"y\"]\n",
    "testX = test.drop(columns=[\"id\"])\n",
    "submission = test[[\"id\"]].copy()"
   ]
  },
  {
   "cell_type": "code",
   "execution_count": 4,
   "id": "13d0b537",
   "metadata": {},
   "outputs": [
    {
     "ename": "SyntaxError",
     "evalue": "invalid syntax (3830843451.py, line 1)",
     "output_type": "error",
     "traceback": [
      "\u001b[1;36m  Cell \u001b[1;32mIn[4], line 1\u001b[1;36m\u001b[0m\n\u001b[1;33m    class\u001b[0m\n\u001b[1;37m          ^\u001b[0m\n\u001b[1;31mSyntaxError\u001b[0m\u001b[1;31m:\u001b[0m invalid syntax\n"
     ]
    }
   ],
   "source": [
    "class LinearClassifier(nn.module):\n",
    "    def __init__(self, "
   ]
  },
  {
   "cell_type": "code",
   "execution_count": null,
   "id": "8c2cc7a5-b190-4e3e-83c3-22102a6fd761",
   "metadata": {},
   "outputs": [],
   "source": [
    "clsf = DummyClassifier(random_state=1)\n",
    "clsf.fit(trainX, trainY)\n",
    "prediction = clsf.predict(testX)"
   ]
  },
  {
   "cell_type": "code",
   "execution_count": null,
   "id": "a5ab2ec5-9e39-4ce3-9bec-ffd183a314c8",
   "metadata": {},
   "outputs": [],
   "source": [
    "submission[\"y\"] = prediction"
   ]
  },
  {
   "cell_type": "code",
   "execution_count": null,
   "id": "e310e223-0b02-4c46-a995-a540444bb4ba",
   "metadata": {},
   "outputs": [],
   "source": [
    "submission.to_csv(\"submission.tsv\", sep='\\t')"
   ]
  },
  {
   "cell_type": "code",
   "execution_count": null,
   "id": "30440698",
   "metadata": {},
   "outputs": [],
   "source": []
  }
 ],
 "metadata": {
  "kernelspec": {
   "display_name": "Python 3 (ipykernel)",
   "language": "python",
   "name": "python3"
  },
  "language_info": {
   "codemirror_mode": {
    "name": "ipython",
    "version": 3
   },
   "file_extension": ".py",
   "mimetype": "text/x-python",
   "name": "python",
   "nbconvert_exporter": "python",
   "pygments_lexer": "ipython3",
   "version": "3.12.7"
  }
 },
 "nbformat": 4,
 "nbformat_minor": 5
}
